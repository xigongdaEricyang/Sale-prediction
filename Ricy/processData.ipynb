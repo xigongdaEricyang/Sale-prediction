{
 "cells": [
  {
   "cell_type": "code",
   "execution_count": 1,
   "metadata": {
    "collapsed": true
   },
   "outputs": [],
   "source": [
    "import numpy as np\n",
    "import pandas as pd\n",
    "import matplotlib.pyplot as plt"
   ]
  },
  {
   "cell_type": "code",
   "execution_count": 2,
   "metadata": {},
   "outputs": [
    {
     "name": "stderr",
     "output_type": "stream",
     "text": [
      "c:\\ricy\\python\\lib\\site-packages\\IPython\\core\\interactiveshell.py:2698: DtypeWarning: Columns (15,20) have mixed types. Specify dtype option on import or set low_memory=False.\n",
      "  interactivity=interactivity, compiler=compiler, result=result)\n"
     ]
    }
   ],
   "source": [
    "df = pd.read_csv('C:\\Ricy\\Tianchi\\Data\\TianChi-master\\[new] yancheng_train_20171226.csv')"
   ]
  },
  {
   "cell_type": "code",
   "execution_count": 3,
   "metadata": {},
   "outputs": [],
   "source": [
    "def handleRatedPassenger(x):\n",
    "    if '-' in x:\n",
    "        arr = x.split('-')\n",
    "        return (float(arr[0]) + float(arr[1]))/2\n",
    "    else:\n",
    "        return float(x)\n",
    "\n",
    "df['rated_passenger'] = df['rated_passenger'].apply(handleRatedPassenger)\n",
    "fileName = 'ratedPassengerDone.csv'\n",
    "df.to_csv(fileName, encoding='utf-8', index=False)"
   ]
  },
  {
   "cell_type": "code",
   "execution_count": 4,
   "metadata": {},
   "outputs": [
    {
     "name": "stderr",
     "output_type": "stream",
     "text": [
      "c:\\ricy\\python\\lib\\site-packages\\IPython\\core\\interactiveshell.py:2698: DtypeWarning: Columns (15,20) have mixed types. Specify dtype option on import or set low_memory=False.\n",
      "  interactivity=interactivity, compiler=compiler, result=result)\n"
     ]
    },
    {
     "data": {
      "image/png": "[encoded data removed]",
      "text/plain": [
       "<matplotlib.figure.Figure at 0x8274080>"
      ]
     },
     "metadata": {},
     "output_type": "display_data"
    }
   ],
   "source": [
    "df = pd.read_csv(fileName)\n",
    "# ts = df['sale_date'].value_counts().sort_index().cumsum().plot()\n",
    "df['sale_date'].value_counts().sort_index().plot(kind = 'bar')\n",
    "plt.show()"
   ]
  },
  {
   "cell_type": "code",
   "execution_count": 5,
   "metadata": {
    "collapsed": true
   },
   "outputs": [],
   "source": [
    "# df.groupby(['class_id', 'sale_date']).size().sort_values()"
   ]
  },
  {
   "cell_type": "code",
   "execution_count": 6,
   "metadata": {
    "scrolled": true
   },
   "outputs": [
    {
     "name": "stdout",
     "output_type": "stream",
     "text": [
      "\n",
      "\n",
      "\n",
      "brand_id:  [ 12 637 831 750  98 537 807 638  75 106 450 872 953 985 864 304 692 761\n",
      " 836 290 783 814 497 813 923 512 498 841 542 236 294  49 126  68 682  76]\n",
      "compartment:  [2 3 1]\n",
      "type_id:  [1 2 3 4]\n",
      "level_id:  ['1' '2' '3' '4' '-' '5']\n",
      "department_id:  [1 2 3 4 5 6 7]\n",
      "TR:  ['6' '5' '0' '8' '7' '9' '4' '1' '8;7' '5;4']\n",
      "gearbox_type:  ['MT' 'DCT' 'AT' 'CVT' 'AMT' 'AT;DCT' 'MT;AT']\n",
      "displacement:  [ 1.8  1.6  1.5  2.   1.3  1.2  3.   2.5  1.4  1.   2.4  0.   2.7  1.1  2.3\n",
      "  2.8  3.1  1.9  3.6]\n",
      "if_charging:  ['L' 'T']\n",
      "price_level:  ['8-10W' '10-15W' '5WL' '15-20W' '5-8W' '25-35W' '35-50W' '20-25W' '50-75W']\n",
      "\n",
      "driven_type_id:  [1 2 3]\n",
      "fuel_type_id:  [1 2 3 4 '1' '2' '3' '-']\n",
      "newenergy_type_id:  [1 2 3 4]\n",
      "emission_standards_id:  [1 2 3 5]\n",
      "if_MPV_id:  [2 1]\n",
      "if_luxurious_id:  [1 2]\n",
      "power:  [98.0 94.0 105.0 81.0 82.0 114.0 101.0 80.0 110.0 193.0 90.0 84.0 132.0\n",
      " 155.0 100.0 115.0 83.0 93.8 93.0 96.0 187.0 162.0 86.0 133.0 89.0 137.0\n",
      " 121.0 165.0 135.0 102.0 130.0 123.0 92.0 112.0 95.0 200.0 85.0 150.0 157.0\n",
      " 120.0 152.0 103.0 68.0 91.6 180.0 104.0 118.0 78.0 73.0 169.0 116.0 119.0\n",
      " 95.6 60.3 75.0 186.0 184.0 66.0 178.0 132.4 145.0 140.0 128.7 141.0 108.0\n",
      " 131.0 78.7 65.0 147.0 111.0 95.3 134.0 182.0 88.0 117.7 142.0 185.0 79.0\n",
      " 91.0 124.0 63.5 179.0 125.0 90.2 73.3 148.0 90.4 245.0 30.0 107.0 250.0\n",
      " 191.0 122.0 127.0 128.5 172.0 36.0 45.0 220.0 63.0 60.0 128.0 77.0 61.5\n",
      " 126.0 144.0 109.0 167.0 106.0 166.0 74.0 171.0 113.0 228.0 198.0 81.58\n",
      " 211.0 190.0 192.0 195.0 50.0 70.0 164.0 188.0 227.0 213.0 160.0 '103'\n",
      " '113' '135' '96' '110' '78.7' '105' '104' '121' '118' '147' '74' '116'\n",
      " '130' '73' '86' '81' '178' '91.6' '220' '77' '115' '119' '109' '88' '90'\n",
      " '150' '167' '111' '166' '140' '83' '107' '198' '79' '80' '108' '92' '82'\n",
      " '63' '93.8' '106' '165' '93' '89' '45' '75' '228' '131' '125' '66' '155'\n",
      " '250' '123' '137' '190' '70' '187' '114' '50' '102' '152' '180' '112'\n",
      " '134' '162' '100' '120' '78' '195' '200' '81.58' '213' '132' '160' '193'\n",
      " '117.7' '65' '126' '211' '145' '84' '98' '90.4' '184' '128' '186' '85'\n",
      " '101' '122' '133' '164' '94' '128.7' '132.4' '63.5' '60.3' '68' '81/70'\n",
      " '95.3' '245' '227' '95.6' '95' '179' '189' '157' '141' '124']\n",
      "cylinder_number:  [4 3 6 0]\n",
      "engine_torque:  ['170' '159' '176' '155' '146.5' '190' '202' '140' '210' '400' '154' '146'\n",
      " '300' '350' '230' '215' '138' '155.5' '290' '186' '150' '240' '169' '168'\n",
      " '234' '199' '172' '245' '160' '235' '185' '270' '142' '250' '141' '280'\n",
      " '225' '340' '200' '243' '285' '120' '150.7' '220' '320' '370' '178' '135'\n",
      " '252' '180' '210.8' '116' '353' '132' '148' '310' '265' '315' '193' '226'\n",
      " '250.3' '153' '157' '205' '195' '143' '192' '115' '203' '253' '175' '108'\n",
      " '194' '213' '132.4' '165' '440' '123' '233' '189' '173' '174' '-' '201'\n",
      " '174.9' '145' '147' '275' '227.5' '360' '355' '380' '85' '177' '103' '198'\n",
      " '222' '232' '127' '162.68' '184' '130' '296' '297' '90' '231' '330' '187'\n",
      " '224' '420' '155/140']\n",
      "car_length:  [4440 4534 4720 4475 4415 4585 4510 4425 4335 4812 4630 4567 4319 4661 4590\n",
      " 4530 5055 4600 4631 4270 5266 4649 4570 4872 4620 4558 4368 4605 4524 4666\n",
      " 4715 4891 4450 4629 4783 5065 4750 4650 4160 4725 4730 4664 4760 4294 4587\n",
      " 4255 4549 4572 4565 4348 5213 4860 4278 4519 4360 4680 4598 4280 4398 4683\n",
      " 4393 4420 4655 4506 5018 4610 4868 4685 4582 4470 4710 4562 4667 4761 4431\n",
      " 4032 4487 4834 4065 4681 4640 4520 5036 4855 4545 4544 4818 3987 4866 4643\n",
      " 4633 3970 4843 4370 4384 4665 4753 4461 4365 4445 4923 4120 4400 4547 5131\n",
      " 4500 4755 4452 4579 4714 4473 4718 5115 4865 4873 4870 4100 4480 4805 4915\n",
      " 4354 4816 4462 4645 4734 4850 4705 4451 4275 4465 4845 3797 5203 4146 4925\n",
      " 4195 4282 4810 4559 3975 4501 4672 4220 3675 4170 4712 4780 4671 4456 5087\n",
      " 4589 5024 4314 5256 4312 5145 4295 4652 4457 4825 4748 4902 4670 4240 4765\n",
      " 4449 4350 4745 4345 5016 4338 4609 4749 3900 5035 5015 3995 5012 4581 4688\n",
      " 3885 4869 4608 3730 4315 4115 4644 5039 4385 4523 4930 4830 4199 4477 4945\n",
      " 4213 4550 4454 4602 4525 5000 4540 4535 4325 4960 4763 4176 5005 4484 5003\n",
      " 5026 4469 3810 4575 4531 4200 4265]\n",
      "car_width:  [1833 1823 1815 1706 1685 1820 1852 1789 1814 1903 1775 1786 1785 1898 1900\n",
      " 1695 1780 1760 1772 1878 1834 1805 1765 1838 1807 1720 1830 1855 1810 1860\n",
      " 1850 1802 1824 1750 1811 1825 1799 1835 1821 1847 1854 1781 1831 1721 1800\n",
      " 1826 1841 1766 1809 1798 1866 1795 1837 1793 1839 1804 1680 1700 1856 1797\n",
      " 1827 1790 1874 1774 1779 1843 1705 1832 1840 1682 1734 1510 1845 1942 1796\n",
      " 1725 1740 1910 1704 1630 1819 1803 1868 1710 1933 1863 1931 1857 1916 1770\n",
      " 1600 1743 1783 1778 1880 1858 1755 1650 1674 1817 1615]\n",
      "car_height:  [1545 1483 1465 1469 1850 1685 1677 1470 1695 1680 1480 1456 1441 1664 1488\n",
      " 1700 1960 1445 1503 1605 1772 1710 1484 1750 1505 1460 1950 1490 1635 1655\n",
      " 1442 1467 1478 1426 1455 1452 1482 1491 1624 1574 1648 1694 1820 1630 1730\n",
      " 1425 1416 1658 1701 1591 1524 1670 1453 1463 1459 1485 1715 1458 1622 1745\n",
      " 1468 1940 1660 1439 1535 1450 1783 1663 1494 1477 1525 1475 1461 1646 1432\n",
      " 1486 1464 1476 1462 1530 1474 1612 1532 1690 1502 1707 1471 1479 1472 1830\n",
      " 1645 1654 1669 1421 1454 1466 1770 1675 1446 1495 1662 1805 1594 1617 1487\n",
      " 1811 1678 1755 1625 1809 1518 1615 1673 1448 1500 1765 1776 1720 1588 1688\n",
      " 1684 1417 1679 1693 1697 1689 1780 1515 1638 1647 1705 1945 1613 1860 1606\n",
      " 1656 1492 1589 1653 1577 1523 1510 1665 1501 1497 1511 1493 1415 1583 1735\n",
      " 1496 1661]\n",
      "total_quality:  [1695 1711 1860 1625 1825 2010 1900 1611 1895 2375 1770 1700 1885 2360 1736\n",
      " 2160 1720 1650 1775 2470 2059 1608 2120 1780 1798 1707 2092 1670 2335 1980\n",
      " 2365 2305 1730 2075 1820 1665 1755 1996 2025 1782 1630 2140 1672 2230 2095\n",
      " 1737 2380 2034 1815 2315 2100 1760 1835 1850 1975 2105 2250 2405 1925 1655\n",
      " 1733 1840 1967 1715 1620 1960 1845 1870 1769 1920 1681 1855 1807 1645 1955\n",
      " 1790 2330 2080 2050 1990 1595 1350 1773 1600 1803 1500 2064 2051 2460 1676\n",
      " 1470 1734 1689 2210 2060 1640 1810 2015 1545 2000 1940 1683 1675 1735 1738\n",
      " 1660 1830 2020 1590 1626 1800 1685 2170 1941 1690 1880 1865 1774 2035 2065\n",
      " 2260 1765 1970 2055 1750 1808 2300 2145 1540 1740 1910 1460 1635 2090 1778\n",
      " 2275 2415 2030 1788 2038 2165 2295 1795 1710 1652 1783 1915 1610 2150 2110\n",
      " 2045 2190 2125 1752 1951 1843 1930 1575 1995 2505 2255 1876 1555 1985 1745\n",
      " 2040 1560 1520 2515 2185 2180 1805 2098 2115 1705 2440 2131 2087 1580 2004\n",
      " 1971 2069 2215 2070 1360 2410 1550 2225 2235 1918 2355 2520 1890 1950 2231\n",
      " 2220 2350 2310 1722 2085 1725 2499 1380 2027 2175 2162 1785 2270 2340 1420\n",
      " 1570 1565 1984 2168 2431 2325 1747 2084 1510 2280 2219 1694 1657 2475 2385\n",
      " 1698 1766 2320 2205 1697 1515 2178 2066 1809 2245 1816 1776 1712 2101 1615\n",
      " 1965 1696 1893 1680 2425 1597 1572 2074 1530 1818 1713 1642 1542 2420 1661\n",
      " 1742 2480 1495 2370 1945 1858 2345 2130 2106 1602 1688 1514 2390 1617 2005\n",
      " 2142 2155 2169]\n",
      "equipment_quality:  [1320 1336 1459 1145 1236 1540 1450 1520 1885 1265 1195 1435 1860 1485 1560\n",
      " 1260 1205 1930 1233 1600 1410 1370 1332 1717 1304 1240 1810 1497 1525 1431\n",
      " 1900 1640 1770 1315 1665 1415 1290 1465 1380 1251 1615 1302 1407 1255 1305\n",
      " 1297 1607 1362 1840 1659 1230 1405 1850 1590 1700 1280 1235 1275 1319 1250\n",
      " 1325 1306 1815 1890 1550 1475 1228 1358 1395 1710 1592 1295 1340 1203 1510\n",
      " 1375 1458 1343 1220 1432 1270 1460 1310 1800 1480 1575 1567 1115  985 1398\n",
      " 1120 1755 1660 1225 1286 1224 1197 1105 1541 1960 1790 1301 1285 1058 1359\n",
      " 1314 1160 1580 1430 1750 1185 1300 1565 1135 1500 1501 1360 1308 1495 1620\n",
      " 1200 1110 1585 1535 1083 1226 1427 1180 1555 1720 1482 1425 1087 1206 1210\n",
      " 1596 1254 1680 1390 1326 1466 1433 1440 1655 1545 1256 1060 1574 1577 1658\n",
      " 1365 1043 1155 1330 1471 1830 1472 1740 1625 1612 1015 1675 1558 1866 1345\n",
      " 1530 1441 1245 1505 1426  935 1277 1408 1667 1645 1078 1248 1420 1259 1670\n",
      " 1215 1499 1661 1610 1455 1341 1468 1039  965 1204 1795 1403 1473 1391 1075\n",
      " 1486 1554 1242 1576 1493 1626 1100 1627  940 1570 1870 1685 1085 1207 1771\n",
      " 1666 1376 1140 1072 1970 1695 1878 1756 1470 1654 1881 1557 1561 1481 1578\n",
      " 1746 1910 1243 1050 1690 1355 1725 1492 1745 1990 1546 1980 1409 1647 1688\n",
      " 1668 1367 1803 1708 1769 1070 1335 1738 1090 1479 1157 1258 1400 1350 1950\n",
      " 1352 1198 1055 1517 1218 1787 1633 1045 1490 1164 1556 1940 1650 1372 1683\n",
      " 1122 1709 1456 1030 1542 1247  945 2005 1775 1549 1845 1000 1288 1323 1130\n",
      " 1321 1065 1364 1605 1322 1597 1765 1446 1515 1379 1217 1715 1401 1582 1337\n",
      " 1418 1484 1095 1634 1237 1635 1353 1445  925 1760 1211 1378 1092 1170 1282\n",
      " 1271 1875 1564  970 1402 1436 1705 1338 1506 1588 1267 1167 1091 1848 1266\n",
      " 1581 1630 1116 1423 1820 1954 1469 1264 1089  950 1383 1880 1208 1246 1483\n",
      " 1529 1955  930 1139 1020 1780 1239 1010 1413 1452 1496]\n",
      "rated_passenger:  [ 5.   7.5  7.   6.5  4.   4.5  6.   9. ]\n",
      "wheelbase:  [2700 2648 2770 2603 2720 2620 2650 2560 2857 2662 2629 2873 2675 3000 2610\n",
      " 3088 2680 2803 2750 2612 2690 2800 2775 2640 2807 2920 3079 2730 2860 2687\n",
      " 2637 2670 3108 2780 2850 2555 2590 2656 2530 2510 2651 2684 2905 2614 2869\n",
      " 2699 2550 2790 2737 2685 3012 2805 2600 2908 2470 2871 2570 2646 2829 2837\n",
      " 2661 2660 2840 2812 2815 2820 2810 2631 2795 2500 2939 2604 2705 2360 2791\n",
      " 2636 2715 3014 2585 2725 2760 2950 2900 2630 2945 2710 2578 2602 2465 2471\n",
      " 2460]\n",
      "front_track:  [1556 1553 1579 1460 1420 1580 1575 1502 1525 1645 1535 1540 1539 1617 1555\n",
      " 1601 1445 1593 1565 1549 1577 1554 1517 1563 1541 1585 1614 1572 1596 1560\n",
      " 1551 1500 1537 1562 1600 1561 1586 1578 1425 1557 1430 1495 1547 1527 1530\n",
      " 1569 1538 1599 1550 1518 1584 1564 1558 1488 1545 1480 1450 1630 1602 1566\n",
      " 1463 1567 1544 1511 1543 1574 1606 1490 1531 1548 1620 1552 1590 1290 1625\n",
      " 1652 1595 1612 1597 1524 1534 1451 1405 1582 1546 1559 1604 1526 1520 1573\n",
      " 1482 1641 1598 1470 1603 1655 1605 1489 1627 1280 1522 1571 1591 1533 1475\n",
      " 1435 1429 1506 1594]\n",
      "rear_track:  [1562 1544 1589 1500 1440 1580 1570 1492 1520 1645 1535 1558 1509 1613 1550\n",
      " 1602 1420 1568 1540 1530 1603 1565 1549 1522 1493 1561 1585 1615 1614 1538\n",
      " 1600 1560 1546 1578 1485 1576 1548 1542 1627 1521 1596 1574 1435 1450 1505\n",
      " 1554 1563 1533 1555 1495 1532 1571 1541 1525 1588 1564 1478 1567 1465 1480\n",
      " 1620 1609 1539 1456 1587 1577 1586 1515 1581 1582 1593 1470 1545 1591 1572\n",
      " 1631 1551 1290 1636 1671 1584 1599 1460 1601 1626 1524 1590 1529 1632 1552\n",
      " 1444 1496 1621 1400 1628 1594 1536 1605 1506 1488 1617 1642 1607 1606 1547\n",
      " 1595 1475 1622 1618 1503 1575 1513 1514 1528 1462 1557 1425 1422]\n"
     ]
    }
   ],
   "source": [
    "for header in list(df):\n",
    "    if header in ('sale_date', 'class_id', 'sale_quantity', 'price'):\n",
    "        print()\n",
    "    else:\n",
    "        print(header + ': ', df[header].unique())"
   ]
  },
  {
   "cell_type": "code",
   "execution_count": 7,
   "metadata": {},
   "outputs": [
    {
     "name": "stderr",
     "output_type": "stream",
     "text": [
      "c:\\ricy\\python\\lib\\site-packages\\ipykernel_launcher.py:1: FutureWarning: elementwise comparison failed; returning scalar instead, but in the future will perform elementwise comparison\n",
      "  \"\"\"Entry point for launching an IPython kernel.\n"
     ]
    },
    {
     "data": {
      "text/plain": [
       "False"
      ]
     },
     "execution_count": 7,
     "metadata": {},
     "output_type": "execute_result"
    }
   ],
   "source": [
    "'-' in df['sale_quantity'].unique()"
   ]
  },
  {
   "cell_type": "code",
   "execution_count": 8,
   "metadata": {
    "collapsed": true
   },
   "outputs": [],
   "source": [
    "# produce the classDic which contains\n",
    "classDicBasic = {}\n",
    "for index, row in df.iterrows():\n",
    "    if row['class_id'] not in classDicBasic:\n",
    "        jump = False\n",
    "        for subIndex, value in row.items():\n",
    "            if value == '-' and subIndex != 'price':\n",
    "                jump = True\n",
    "        if not jump:\n",
    "            classDicBasic[row['class_id']] = row\n",
    "\n",
    "# for index, row in classDicBasic.items():\n",
    "#     for subIndex, value in row.iteritems():\n",
    "#         if value == '-' and subIndex != 'price': \n",
    "#             print('subIndex: ', subIndex, ' value: ', value)\n",
    "# for key in df['class_id'].unique():\n",
    "#     if key not in classDicBasic.keys():\n",
    "#         print(key)\n",
    "# for index, row in df.iterrows():\n",
    "#     if row['class_id'] in [527765]:\n",
    "#         if row['engine_torque'] != '-':\n",
    "#             print('index: ', index, ' engine_torque: ', row['engine_torque'])"
   ]
  },
  {
   "cell_type": "code",
   "execution_count": 9,
   "metadata": {
    "collapsed": true
   },
   "outputs": [],
   "source": [
    "# fill in the value, not include price and 527765, 178529\n",
    "classIds = classDicBasic.keys()\n",
    "for index, row in df.iterrows():\n",
    "    classId = row['class_id']\n",
    "    for subIndex, value in row.iteritems():\n",
    "        if value == '-':\n",
    "            if classId in classIds:\n",
    "                item = classDicBasic[classId]\n",
    "                if subIndex != 'price':\n",
    "                    row[subIndex] = item[subIndex]\n",
    "                    df.set_value(index, subIndex, item[subIndex])"
   ]
  },
  {
   "cell_type": "code",
   "execution_count": 10,
   "metadata": {
    "collapsed": true
   },
   "outputs": [],
   "source": [
    "# Check the value whether is right\n",
    "for index, row in df.iterrows():\n",
    "    for subIndex, value in row.iteritems():\n",
    "        if value == '-':\n",
    "            if subIndex != 'price' and row['class_id'] not in [178529, 527765]:\n",
    "                print(index, subIndex, value)"
   ]
  },
  {
   "cell_type": "code",
   "execution_count": 11,
   "metadata": {
    "collapsed": true
   },
   "outputs": [],
   "source": [
    "## save to excel after handling fuel_type_id\n",
    "fileName = 'fuelTypeDone.csv'\n",
    "df.to_csv(fileName, encoding='utf-8', index=False)"
   ]
  },
  {
   "cell_type": "code",
   "execution_count": 12,
   "metadata": {},
   "outputs": [
    {
     "name": "stderr",
     "output_type": "stream",
     "text": [
      "c:\\ricy\\python\\lib\\site-packages\\IPython\\core\\interactiveshell.py:2698: DtypeWarning: Columns (20) have mixed types. Specify dtype option on import or set low_memory=False.\n",
      "  interactivity=interactivity, compiler=compiler, result=result)\n"
     ]
    }
   ],
   "source": [
    "df = pd.read_csv('C:\\\\Ricy\\\\Tianchi\\\\fuelTypeDone.csv')\n",
    "import re\n",
    "for index, row in df.iterrows():\n",
    "    if not(isinstance(row['TR'], int) or isinstance(row['TR'], float)):\n",
    "        if re.search(';', row['TR']):\n",
    "            nums = row['TR'].split(';')\n",
    "            trNum = (int(nums[0]) + int(nums[1]))/2\n",
    "            df.set_value(index, 'TR', trNum)\n",
    "        else:\n",
    "            if not isinstance(row['TR'], float):\n",
    "                df.set_value(index, 'TR', float(row['TR']))"
   ]
  },
  {
   "cell_type": "code",
   "execution_count": 13,
   "metadata": {
    "collapsed": true
   },
   "outputs": [],
   "source": [
    "fileName = 'trDone.csv'\n",
    "df.to_csv(fileName, encoding='utf-8', index=False)"
   ]
  },
  {
   "cell_type": "code",
   "execution_count": 14,
   "metadata": {},
   "outputs": [
    {
     "name": "stderr",
     "output_type": "stream",
     "text": [
      "c:\\ricy\\python\\lib\\site-packages\\IPython\\core\\interactiveshell.py:2698: DtypeWarning: Columns (20) have mixed types. Specify dtype option on import or set low_memory=False.\n",
      "  interactivity=interactivity, compiler=compiler, result=result)\n"
     ]
    }
   ],
   "source": [
    "df = pd.read_csv('C:\\\\Ricy\\\\Tianchi\\\\trDone.csv')"
   ]
  },
  {
   "cell_type": "code",
   "execution_count": null,
   "metadata": {
    "collapsed": true
   },
   "outputs": [],
   "source": []
  },
  {
   "cell_type": "code",
   "execution_count": 15,
   "metadata": {
    "collapsed": true
   },
   "outputs": [],
   "source": [
    "# handle if_MPV_id, if_luxurious_id\n",
    "capitalizer = lambda x:x-1\n",
    "df['if_MPV_id'] = df['if_MPV_id'].apply(capitalizer)\n",
    "df['if_luxurious_id'] = df['if_luxurious_id'].apply(capitalizer)"
   ]
  },
  {
   "cell_type": "code",
   "execution_count": 16,
   "metadata": {
    "collapsed": true
   },
   "outputs": [],
   "source": [
    "# handle if_charging\n",
    "def mapCharging(x):\n",
    "    if x == 'L':\n",
    "        return 1\n",
    "    else:\n",
    "        return 0\n",
    "df['if_charging'] = df['if_charging'].apply(mapCharging)\n",
    "\n",
    "fileName = 'mpvChargingDone.csv'\n",
    "df.to_csv(fileName, encoding='utf-8', index=False)\n",
    "\n",
    "# index = pd.date_range('1/1/2000', periods=8)\n",
    "# s = pd.Series(np.random.randn(5), index=['a', 'b', 'c', 'd', 'e'])\n",
    "# df = pd.DataFrame(np.random.randn(8, 3), index=index, \n",
    "#                   columns=['A', 'B', 'C'])\n",
    "# wp = pd.Panel(np.random.randn(2, 5, 4), items=['Item1', 'Item2'],\n",
    "#               major_axis=pd.date_range('1/1/2000', periods=5),\n",
    "#               minor_axis=['A', 'B', 'C', 'D'])\n",
    "# long_series = pd.Series(np.random.randn(1000))"
   ]
  },
  {
   "cell_type": "code",
   "execution_count": 17,
   "metadata": {},
   "outputs": [
    {
     "name": "stderr",
     "output_type": "stream",
     "text": [
      "c:\\ricy\\python\\lib\\site-packages\\IPython\\core\\interactiveshell.py:2698: DtypeWarning: Columns (20) have mixed types. Specify dtype option on import or set low_memory=False.\n",
      "  interactivity=interactivity, compiler=compiler, result=result)\n"
     ]
    }
   ],
   "source": [
    "df = pd.read_csv('C:\\\\Ricy\\\\Tianchi\\\\'+fileName)\n",
    "\n",
    "def mapPriceLevel(x):\n",
    "    arr = x.split('-')\n",
    "    if len(arr) < 2:\n",
    "        return float(arr[0].split('W')[0])/2\n",
    "    else:\n",
    "        subArr = arr[1].split('W')\n",
    "        return (float(arr[0]) + float(subArr[0]))/2\n",
    "\n",
    "df['price_level'] = df['price_level'].apply(mapPriceLevel)\n",
    "\n",
    "fileName = 'priceLevelDone.csv'\n",
    "df.to_csv(fileName, encoding='utf-8', index=False)"
   ]
  },
  {
   "cell_type": "code",
   "execution_count": 18,
   "metadata": {},
   "outputs": [
    {
     "name": "stderr",
     "output_type": "stream",
     "text": [
      "c:\\ricy\\python\\lib\\site-packages\\IPython\\core\\interactiveshell.py:2698: DtypeWarning: Columns (20) have mixed types. Specify dtype option on import or set low_memory=False.\n",
      "  interactivity=interactivity, compiler=compiler, result=result)\n"
     ]
    }
   ],
   "source": [
    "df = pd.read_csv('C:\\\\Ricy\\\\Tianchi\\\\'+fileName)\n",
    "# split date to month and year\n",
    "def operateDateToYear(x):\n",
    "    return x[:4]\n",
    "def operateDateToMonth(x):\n",
    "    return x[4:]\n",
    "df['sale_date'] = df['sale_date'].astype('str')\n",
    "\n",
    "df['year'] = df['sale_date'].apply(operateDateToYear)\n",
    "df['month'] = df['sale_date'].apply(operateDateToMonth)\n",
    "\n",
    "fileName = 'saleDateDone.csv'\n",
    "df.to_csv(fileName, encoding='utf-8', index=False)\n",
    "\n",
    "df = pd.read_csv('C:\\\\Ricy\\\\Tianchi\\\\'+fileName)\n",
    "df = pd.get_dummies(df, columns=['year', 'month', 'class_id', 'brand_id', 'type_id', 'department_id', 'gearbox_type',\n",
    "                             'driven_type_id', 'fuel_type_id', 'newenergy_type_id', 'emission_standards_id'])\n",
    "fileName = 'oneHotDone.csv'\n",
    "df.to_csv(fileName, encoding='utf-8', index=False)"
   ]
  },
  {
   "cell_type": "code",
   "execution_count": 19,
   "metadata": {},
   "outputs": [
    {
     "name": "stderr",
     "output_type": "stream",
     "text": [
      "c:\\ricy\\python\\lib\\site-packages\\IPython\\core\\interactiveshell.py:2698: DtypeWarning: Columns (11,13) have mixed types. Specify dtype option on import or set low_memory=False.\n",
      "  interactivity=interactivity, compiler=compiler, result=result)\n"
     ]
    }
   ],
   "source": [
    "df = pd.read_csv('C:\\\\Ricy\\\\Tianchi\\\\'+fileName)\n",
    "# map level_id power engine_torque to float, handle 81/70\n",
    "def toFloat(x):\n",
    "    if isinstance(x, str):\n",
    "        if '/' in x:\n",
    "            arr = x.split('/')\n",
    "            num = (float(arr[0])+float(arr[1]))/2\n",
    "            return num\n",
    "        elif x != '-':\n",
    "            return float(x)\n",
    "    return x\n",
    "\n",
    "df['level_id'] = df['level_id'].apply(toFloat)\n",
    "df['power'] = df['power'].apply(toFloat)\n",
    "df['engine_torque'] = df['engine_torque'].apply(toFloat)\n",
    "fileName = 'levelPowerEngineDone.csv'\n",
    "df.to_csv(fileName, encoding='utf-8', index=False)"
   ]
  },
  {
   "cell_type": "code",
   "execution_count": 20,
   "metadata": {},
   "outputs": [
    {
     "name": "stderr",
     "output_type": "stream",
     "text": [
      "c:\\ricy\\python\\lib\\site-packages\\IPython\\core\\interactiveshell.py:2698: DtypeWarning: Columns (13) have mixed types. Specify dtype option on import or set low_memory=False.\n",
      "  interactivity=interactivity, compiler=compiler, result=result)\n"
     ]
    }
   ],
   "source": [
    "df = pd.read_csv('C:\\\\Ricy\\\\Tianchi\\\\'+fileName)\n",
    "# delete items contain '-'\n",
    "condition1 = df['level_id'] == '-'\n",
    "condition2 = df['engine_torque'] == '-'\n",
    "df.drop(df[condition1 | condition2].index, inplace=True)\n",
    "df = df.drop(['price', 'sale_date'], axis=1)"
   ]
  },
  {
   "cell_type": "code",
   "execution_count": 21,
   "metadata": {
    "collapsed": true
   },
   "outputs": [],
   "source": [
    "df = df.astype(float)\n",
    "corr = df.corr()\n",
    "for columnName in df.columns:\n",
    "    if columnName not in corr.columns:\n",
    "        print(columnName)"
   ]
  },
  {
   "cell_type": "code",
   "execution_count": 22,
   "metadata": {
    "collapsed": true
   },
   "outputs": [],
   "source": [
    "# corr.loc['level_id']\n",
    "corr = corr.sort_values(by='level_id')"
   ]
  },
  {
   "cell_type": "code",
   "execution_count": 23,
   "metadata": {},
   "outputs": [
    {
     "data": {
      "text/plain": [
       "driven_type_id_1          -0.289333\n",
       "if_MPV_id                 -0.261072\n",
       "brand_id_750              -0.194660\n",
       "brand_id_692              -0.145108\n",
       "class_id_425432           -0.127165\n",
       "brand_id_12               -0.124700\n",
       "brand_id_985              -0.124423\n",
       "class_id_745137           -0.123171\n",
       "class_id_349023           -0.121484\n",
       "class_id_354068           -0.120917\n",
       "gearbox_type_DCT          -0.118179\n",
       "class_id_409854           -0.116583\n",
       "class_id_290854           -0.112855\n",
       "class_id_321683           -0.112703\n",
       "class_id_628041           -0.112400\n",
       "class_id_347384           -0.112095\n",
       "class_id_304458           -0.107752\n",
       "department_id_6           -0.103926\n",
       "class_id_714152           -0.103895\n",
       "car_width                 -0.096608\n",
       "department_id_5           -0.095618\n",
       "type_id_1                 -0.095059\n",
       "class_id_580470           -0.094504\n",
       "class_id_735971           -0.094325\n",
       "class_id_713651           -0.092700\n",
       "class_id_819061           -0.092700\n",
       "class_id_472603           -0.091969\n",
       "class_id_175962           -0.090863\n",
       "class_id_961362           -0.088989\n",
       "brand_id_450              -0.086050\n",
       "                             ...   \n",
       "class_id_651347            0.144709\n",
       "engine_torque              0.145041\n",
       "brand_id_872               0.156468\n",
       "equipment_quality          0.156493\n",
       "class_id_651782            0.158947\n",
       "brand_id_953               0.172804\n",
       "displacement               0.176637\n",
       "total_quality              0.186348\n",
       "brand_id_814               0.188898\n",
       "brand_id_98                0.189984\n",
       "power                      0.199273\n",
       "class_id_914348            0.204542\n",
       "class_id_248352            0.216337\n",
       "rated_passenger            0.239761\n",
       "type_id_3                  0.267659\n",
       "class_id_527809            0.268854\n",
       "price_level                0.291945\n",
       "cylinder_number            0.301513\n",
       "wheelbase                  0.302428\n",
       "class_id_209945            0.309678\n",
       "class_id_603972            0.316842\n",
       "if_luxurious_id            0.335046\n",
       "driven_type_id_2           0.380611\n",
       "level_id                   1.000000\n",
       "class_id_178529                 NaN\n",
       "class_id_527765                 NaN\n",
       "type_id_4                       NaN\n",
       "fuel_type_id_4                  NaN\n",
       "newenergy_type_id_3             NaN\n",
       "emission_standards_id_2         NaN\n",
       "Name: level_id, Length: 248, dtype: float64"
      ]
     },
     "execution_count": 23,
     "metadata": {},
     "output_type": "execute_result"
    }
   ],
   "source": [
    "corr['level_id']"
   ]
  },
  {
   "cell_type": "code",
   "execution_count": 24,
   "metadata": {},
   "outputs": [
    {
     "data": {
      "text/plain": [
       "if_charging               -0.725803\n",
       "gearbox_type_MT           -0.396338\n",
       "driven_type_id_1          -0.297876\n",
       "department_id_5           -0.189942\n",
       "type_id_3                 -0.181989\n",
       "rated_passenger           -0.172652\n",
       "department_id_1           -0.165886\n",
       "class_id_248352           -0.158550\n",
       "sale_quantity             -0.154966\n",
       "brand_id_98               -0.151527\n",
       "department_id_3           -0.143905\n",
       "class_id_914348           -0.127024\n",
       "brand_id_831              -0.119339\n",
       "class_id_576298           -0.118766\n",
       "brand_id_304              -0.118766\n",
       "class_id_621073           -0.115125\n",
       "brand_id_692              -0.114357\n",
       "brand_id_106              -0.113220\n",
       "class_id_354068           -0.112613\n",
       "class_id_265980           -0.107351\n",
       "class_id_347384           -0.098423\n",
       "class_id_175962           -0.097997\n",
       "class_id_651347           -0.096496\n",
       "class_id_560265           -0.094217\n",
       "brand_id_923              -0.094217\n",
       "class_id_304458           -0.094052\n",
       "class_id_349023           -0.092638\n",
       "brand_id_783              -0.091126\n",
       "class_id_360648           -0.089061\n",
       "emission_standards_id_3   -0.088345\n",
       "                             ...   \n",
       "if_MPV_id                  0.210314\n",
       "class_id_603972            0.212611\n",
       "class_id_209945            0.216870\n",
       "brand_id_814               0.243070\n",
       "cylinder_number            0.264189\n",
       "brand_id_75                0.281188\n",
       "brand_id_953               0.289895\n",
       "gearbox_type_DCT           0.293531\n",
       "TR                         0.311952\n",
       "department_id_4            0.327596\n",
       "brand_id_872               0.338685\n",
       "driven_type_id_3           0.365926\n",
       "car_length                 0.490695\n",
       "displacement               0.534024\n",
       "wheelbase                  0.550256\n",
       "rear_track                 0.584676\n",
       "if_luxurious_id            0.588843\n",
       "front_track                0.598290\n",
       "car_width                  0.657691\n",
       "total_quality              0.729202\n",
       "price_level                0.743114\n",
       "equipment_quality          0.782418\n",
       "power                      0.913098\n",
       "engine_torque              1.000000\n",
       "class_id_178529                 NaN\n",
       "class_id_527765                 NaN\n",
       "type_id_4                       NaN\n",
       "fuel_type_id_4                  NaN\n",
       "newenergy_type_id_3             NaN\n",
       "emission_standards_id_2         NaN\n",
       "Name: engine_torque, Length: 248, dtype: float64"
      ]
     },
     "execution_count": 24,
     "metadata": {},
     "output_type": "execute_result"
    }
   ],
   "source": [
    "# corr.loc['level_id']\n",
    "corr = corr.sort_values(by='engine_torque')\n",
    "corr['engine_torque']"
   ]
  },
  {
   "cell_type": "code",
   "execution_count": null,
   "metadata": {
    "collapsed": true
   },
   "outputs": [],
   "source": []
  },
  {
   "cell_type": "code",
   "execution_count": null,
   "metadata": {},
   "outputs": [],
   "source": []
  },
  {
   "cell_type": "code",
   "execution_count": null,
   "metadata": {},
   "outputs": [],
   "source": []
  },
  {
   "cell_type": "code",
   "execution_count": 25,
   "metadata": {},
   "outputs": [
    {
     "name": "stdout",
     "output_type": "stream",
     "text": [
      "['gearbox_type_AMT', 'gearbox_type_AT', 'gearbox_type_AT;DCT', 'gearbox_type_CVT', 'gearbox_type_DCT', 'gearbox_type_MT', 'gearbox_type_MT;AT', 'driven_type_id_1', 'driven_type_id_2', 'driven_type_id_3', 'fuel_type_id_1', 'fuel_type_id_2', 'fuel_type_id_3', 'fuel_type_id_4', 'newenergy_type_id_1', 'newenergy_type_id_2', 'newenergy_type_id_3', 'newenergy_type_id_4', 'emission_standards_id_1', 'emission_standards_id_2', 'emission_standards_id_3', 'emission_standards_id_5']\n",
      "['displacement', 'if_charging', 'price_level', 'if_luxurious_id', 'power', 'car_length', 'car_width', 'total_quality', 'equipment_quality', 'wheelbase', 'front_track', 'rear_track']\n"
     ]
    }
   ],
   "source": [
    "levelIdInput = ['gearbox_type', 'driven_type','fuel_type','newenergy_type','emission_standards']\n",
    "engineTorqueInput = ['if_charging', 'car_length','displacement','wheelbase','rear_track','if_luxurious_id',\n",
    "                    'front_track','car_width','total_quality','price_level','equipment_quality','power']\n",
    "levelIdInputColumnList = []\n",
    "engineTorqueInputColumnList = []\n",
    "for column in df.columns.values:\n",
    "    for levelInput in levelIdInput:\n",
    "        if levelInput in column:\n",
    "            levelIdInputColumnList.append(column)\n",
    "    for engineInput in engineTorqueInput:\n",
    "        if engineInput in column:\n",
    "            engineTorqueInputColumnList.append(column)\n",
    "\n",
    "print(levelIdInputColumnList)\n",
    "print(engineTorqueInputColumnList)"
   ]
  },
  {
   "cell_type": "code",
   "execution_count": null,
   "metadata": {
    "collapsed": true
   },
   "outputs": [],
   "source": []
  },
  {
   "cell_type": "code",
   "execution_count": 26,
   "metadata": {},
   "outputs": [
    {
     "data": {
      "text/plain": [
       "array([ 1.,  1.,  2., ...,  2.,  3.,  3.])"
      ]
     },
     "execution_count": 26,
     "metadata": {},
     "output_type": "execute_result"
    }
   ],
   "source": [
    "levelIdInputData = df.loc[:, levelIdInputColumnList]\n",
    "levelIdOutputData = df.loc[:, 'level_id']\n",
    "engineTorqueInputData = df.loc[:, engineTorqueInputColumnList]\n",
    "engineTorqueOutputData = df.loc[:, 'engine_torque']\n",
    "levelIdOutputData.values"
   ]
  },
  {
   "cell_type": "code",
   "execution_count": 27,
   "metadata": {},
   "outputs": [
    {
     "data": {
      "text/plain": [
       "LinearRegression(copy_X=True, fit_intercept=True, n_jobs=1, normalize=False)"
      ]
     },
     "execution_count": 27,
     "metadata": {},
     "output_type": "execute_result"
    }
   ],
   "source": [
    "from sklearn import datasets\n",
    "from sklearn.model_selection import cross_val_predict\n",
    "from sklearn import linear_model\n",
    "import matplotlib.pyplot as plt\n",
    "\n",
    "x1 = levelIdInputData.values\n",
    "y1 = levelIdOutputData.values\n",
    "x2 = engineTorqueInputData.values\n",
    "y2 = engineTorqueOutputData.values\n",
    "\n",
    "lr1 = linear_model.LinearRegression()\n",
    "lr2 = linear_model.LinearRegression()\n",
    "\n",
    "lr1.fit(x1, y1)\n",
    "lr2.fit(x2, y2)\n",
    "# cross_val_predict returns an array of the same size as `y` where each entry\n",
    "# is a prediction obtained by cross validation:\n",
    "# predicted = cross_val_predict(lr, x, y, cv=10)\n",
    "\n",
    "# fig, ax = plt.subplots()\n",
    "# ax.scatter(y, predicted, edgecolors=(0, 0, 0))\n",
    "# ax.plot([y.min(), y.max()], [y.min(), y.max()], 'k--', lw=4)\n",
    "# ax.set_xlabel('Measured')\n",
    "# ax.set_ylabel('Predicted')\n",
    "# plt.show()"
   ]
  },
  {
   "cell_type": "code",
   "execution_count": null,
   "metadata": {
    "collapsed": true
   },
   "outputs": [],
   "source": []
  },
  {
   "cell_type": "code",
   "execution_count": 28,
   "metadata": {},
   "outputs": [
    {
     "name": "stderr",
     "output_type": "stream",
     "text": [
      "c:\\ricy\\python\\lib\\site-packages\\IPython\\core\\interactiveshell.py:2698: DtypeWarning: Columns (13) have mixed types. Specify dtype option on import or set low_memory=False.\n",
      "  interactivity=interactivity, compiler=compiler, result=result)\n"
     ]
    }
   ],
   "source": [
    "df = pd.read_csv('C:\\\\Ricy\\\\Tianchi\\\\'+fileName)\n",
    "# delete items contain '-'\n",
    "condition1 = df['level_id'] == '-'\n",
    "condition2 = df['engine_torque'] == '-'\n",
    "\n",
    "levelIdpredictData = df[condition1]\n",
    "levelIdpredictIndex = levelIdpredictData.index\n",
    "levelIdpredictInput = levelIdpredictData.loc[:, levelIdInputColumnList]\n",
    "\n",
    "engineTorquePredictData = df[condition2]\n",
    "engineTorquePredictIndex = engineTorquePredictData.index\n",
    "engineTorquePredictInput = engineTorquePredictData.loc[:, engineTorqueInputColumnList]"
   ]
  },
  {
   "cell_type": "code",
   "execution_count": 29,
   "metadata": {
    "collapsed": true
   },
   "outputs": [],
   "source": [
    "levelIdPredictResult = lr1.predict(levelIdpredictInput.values)\n",
    "engineTorquePredictResult = lr2.predict(engineTorquePredictInput.values)\n",
    "\n",
    "index1 = 0\n",
    "index2 = 0 \n",
    "for levelIndex in levelIdpredictIndex:\n",
    "    if df.loc[levelIndex, 'level_id'] != '-':\n",
    "        print('---')\n",
    "    else:\n",
    "        df.loc[levelIndex, 'level_id'] = round(levelIdPredictResult[index1])\n",
    "    index1 = index1 + 1\n",
    "\n",
    "for engineIndex in engineTorquePredictIndex:\n",
    "    if df.loc[engineIndex, 'engine_torque'] != '-':\n",
    "        print('!!!')\n",
    "    else:\n",
    "        df.loc[engineIndex, 'engine_torque'] = engineTorquePredictResult[index2]\n",
    "    index2 = index2 + 1"
   ]
  },
  {
   "cell_type": "code",
   "execution_count": 30,
   "metadata": {
    "collapsed": true
   },
   "outputs": [],
   "source": [
    "fileName = 'levelIdEngineDone.csv'\n",
    "df.to_csv(fileName, encoding='utf-8', index=False)"
   ]
  },
  {
   "cell_type": "code",
   "execution_count": 31,
   "metadata": {},
   "outputs": [],
   "source": [
    "fileName = 'levelIdEngineDone.csv'\n",
    "df = pd.read_csv('C:\\\\Ricy\\\\Tianchi\\\\'+fileName)\n",
    "geaboxDf = pd.read_csv('C:\\\\Ricy\\\\Tianchi\\\\gearbox_type_one_hot.csv')"
   ]
  },
  {
   "cell_type": "code",
   "execution_count": null,
   "metadata": {
    "collapsed": true
   },
   "outputs": [],
   "source": []
  },
  {
   "cell_type": "code",
   "execution_count": null,
   "metadata": {
    "collapsed": true
   },
   "outputs": [],
   "source": []
  },
  {
   "cell_type": "code",
   "execution_count": 32,
   "metadata": {},
   "outputs": [
    {
     "name": "stdout",
     "output_type": "stream",
     "text": [
      "gearbox_type_AMT\n",
      "gearbox_type_AT\n",
      "gearbox_type_AT;DCT\n",
      "gearbox_type_CVT\n",
      "gearbox_type_DCT\n",
      "gearbox_type_MT\n",
      "gearbox_type_MT;AT\n"
     ]
    }
   ],
   "source": [
    "for column in df.columns:\n",
    "    if 'gearbox' in column:\n",
    "        print(column)"
   ]
  },
  {
   "cell_type": "code",
   "execution_count": 33,
   "metadata": {
    "collapsed": true
   },
   "outputs": [],
   "source": [
    "df = df.drop(['gearbox_type_AMT', 'gearbox_type_AT', 'gearbox_type_AT;DCT', 'gearbox_type_CVT', 'gearbox_type_DCT',\n",
    "'gearbox_type_MT',\n",
    "'gearbox_type_MT;AT', 'sale_date', 'price'], axis = 1)\n",
    "\n",
    "df = pd.concat([df, geaboxDf], axis=1)"
   ]
  },
  {
   "cell_type": "code",
   "execution_count": 34,
   "metadata": {
    "collapsed": true
   },
   "outputs": [],
   "source": [
    "df.astype(float)\n",
    "fileName = 'final.csv'\n",
    "df.to_csv(fileName, encoding='utf-8', index=False)"
   ]
  },
  {
   "cell_type": "code",
   "execution_count": null,
   "metadata": {
    "collapsed": true
   },
   "outputs": [],
   "source": []
  },
  {
   "cell_type": "code",
   "execution_count": null,
   "metadata": {
    "collapsed": true
   },
   "outputs": [],
   "source": []
  }
 ],
 "metadata": {
  "kernelspec": {
   "display_name": "Python 3",
   "language": "python",
   "name": "python3"
  },
  "language_info": {
   "codemirror_mode": {
    "name": "ipython",
    "version": 3
   },
   "file_extension": ".py",
   "mimetype": "text/x-python",
   "name": "python",
   "nbconvert_exporter": "python",
   "pygments_lexer": "ipython3",
   "version": "3.5.2"
  }
 },
 "nbformat": 4,
 "nbformat_minor": 2
}
